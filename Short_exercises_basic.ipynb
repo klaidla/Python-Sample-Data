{
  "nbformat": 4,
  "nbformat_minor": 0,
  "metadata": {
    "colab": {
      "provenance": []
    },
    "kernelspec": {
      "name": "python3",
      "display_name": "Python 3"
    },
    "language_info": {
      "name": "python"
    }
  },
  "cells": [
    {
      "cell_type": "markdown",
      "source": [
        "Krótkie zadania Python (basics)"
      ],
      "metadata": {
        "id": "SLTyqdhnw-gA"
      }
    },
    {
      "cell_type": "code",
      "source": [
        "# Prosty symulator scrabble\n",
        "# program, ktory poprosi uzytkowanika o slowo i wyliczy jego wartosc punktowa na podstawie wartosci\n",
        "# kazdej z liter. litera 'a' ma wartosc '1', b ma wartosc 2.do przechowania wartosci punktowej dla liter\n",
        "# nalezy wykorzystac slownik\n",
        "'''\n",
        " \n",
        "import string\n",
        "\n",
        "word = input('Podaj wybrane przez siebie słowo: ').rstrip()\n",
        "\n",
        "letters = list(string.ascii_lowercase)\n",
        "\n",
        "values = list(range(1, 27))\n",
        "\n",
        "score = dict(zip(letters, values))\n",
        "\n",
        "\n",
        "def scrable_score(word):\n",
        "    return sum(score[x] for x in word)\n",
        "\n",
        "\n",
        "print('Twój wynik to', scrable_score(word))"
      ],
      "metadata": {
        "id": "PyD9y96ayzP-"
      },
      "execution_count": null,
      "outputs": []
    },
    {
      "cell_type": "code",
      "source": [
        "# Sprawdź, czy podane słowo jest izogramem:\n",
        "slowo = input('Podaj słowo do sprawdzenia, czy jest izogramem: ')\n",
        "\n",
        "if len(sorted(list(slowo))) == len(sorted(set(slowo))):\n",
        "    print('true')"
      ],
      "metadata": {
        "id": "UprIf4zQxF6W"
      },
      "execution_count": null,
      "outputs": []
    },
    {
      "cell_type": "code",
      "source": [
        "# 2. wykorzystujac petle for, znajdz element o najwiekszej wartosci w nieuporzadkowanej lisce 20 liczb\n",
        "# nie uzywac funkcji max\n",
        "\n",
        "lista = [5, 4, 3, 6, 45, 365, 1, 20, 35835, 12, 7, 3587, 15, 19, 58, 523, 17863, 11, 5, 6, 10]\n",
        "\n",
        "largest_number = lista[0]\n",
        "\n",
        "for number in lista:\n",
        "    if number > largest_number:\n",
        "        largest_number = number\n",
        "\n",
        "print(largest_number)"
      ],
      "metadata": {
        "id": "m2d_q6RLxGGI"
      },
      "execution_count": null,
      "outputs": []
    },
    {
      "cell_type": "code",
      "source": [
        "# 'czy jesteś wysoki?' :)\n",
        "wzrost = int(input('Podaj wzrost w cm: '))\n",
        "\n",
        "if wzrost < 160:\n",
        "    print('Jeszcze jestem niski')\n",
        "    print('Koniec')\n",
        "elif 180 == wzrost:\n",
        "    print('To dokładnie ten wzrost, którego oczukuję')\n",
        "elif wzrost < 190:\n",
        "    print('Jestem całkiem wysoki')\n",
        "    if wzrost % 2 == 0:\n",
        "        print('Parzyscie')\n",
        "    else:\n",
        "        print('Nieparzyscie')\n",
        "else:\n",
        "    print('Jestem bardzo wysoki')"
      ],
      "metadata": {
        "id": "kyf9PfTuxhSf"
      },
      "execution_count": null,
      "outputs": []
    },
    {
      "cell_type": "code",
      "source": [
        "# kalkulator BMI\n",
        "waga = input('podaj wagę w kg')\n",
        "wzrost = input('podaj wzrost w cm')\n",
        "bmi = float(waga) / float(wzrost) **2\n",
        "\n",
        "if bmi > 25:\n",
        "    print( 'overweight')\n",
        "elif bmi < 18:\n",
        "    print('underweight')\n",
        "else:\n",
        "    print('healthy')\n"
      ],
      "metadata": {
        "id": "3ltlBhIGxhY2"
      },
      "execution_count": null,
      "outputs": []
    },
    {
      "cell_type": "code",
      "source": [
        "# popros uzytkownika o dwa slowa oddzielone przecinkiem i sprawdz czy z liter jednego z nich mozna ulozyc drugie slowo - wyprintuj true or false.\n",
        "# litery w slowach nie moga sie powtarzac:\n",
        "\n",
        "slowo1, slowo2 = input('Podaj proszę dwa słowa, oddzielone od siebie przecinkiem: ').split(',')\n",
        "slowo1 = slowo1.lower().strip()\n",
        "slowo2 = slowo2.lower().strip()\n",
        "litery1 = set(slowo1)\n",
        "litery2 = set(slowo2)\n",
        "print(litery1.issuperset(litery2) or litery2.issuperset(litery1))"
      ],
      "metadata": {
        "id": "_HC-0WwqxhhT"
      },
      "execution_count": null,
      "outputs": []
    },
    {
      "cell_type": "code",
      "source": [
        "# Podana lista lista_a = ['Ala', 'ma', 'kota', 'i', 'psa'].\n",
        "#     Stwórz wyrażenie listowe, które będzie zawierać długości wyrazów z listy lista_a.\n",
        "#     wynik = [3, 2, 4, 1, 3]\n",
        "\n",
        "lista_a = ['Ala', 'ma', 'kota', 'i', 'psa']\n",
        "lista_b = list()\n",
        "\n",
        "#for element in lista_a:\n",
        " #   lista_b.append(len(element))\n",
        "\n",
        "#print(lista_b)\n",
        "\n",
        "[lista_b.append(len(element)) for element in lista_a]\n",
        "\n",
        "print(lista_b)"
      ],
      "metadata": {
        "id": "MeWOcQK8ynuD"
      },
      "execution_count": null,
      "outputs": []
    },
    {
      "cell_type": "code",
      "source": [
        "# Wypisz True jeśli dwa słowa przypisane do zmiennych slowo1 i slowo2 są anagramami (jedno słowo powstaje z drugiego przez zmianę kolejności liter).\n",
        "\n",
        "slowo1 = input('podaj losowe słowo nr1 ')\n",
        "slowo2 = input('podaj losowe slowo nr2 ')\n",
        "\n",
        "def check(slowo1, slowo2):\n",
        "    if(sorted(slowo1) == sorted(slowo2)):\n",
        "        print('słowa są anagramami')\n",
        "    else:\n",
        "        print('slowa nie są anagramami')\n",
        "\n",
        "print(check(slowo1, slowo2))"
      ],
      "metadata": {
        "id": "ZayOehI_yn1x"
      },
      "execution_count": null,
      "outputs": []
    },
    {
      "cell_type": "code",
      "source": [],
      "metadata": {
        "id": "SEuhopduyn89"
      },
      "execution_count": null,
      "outputs": []
    },
    {
      "cell_type": "code",
      "source": [],
      "metadata": {
        "id": "Qfz6tLXxiykQ"
      },
      "execution_count": null,
      "outputs": []
    },
    {
      "cell_type": "code",
      "source": [],
      "metadata": {
        "id": "56fAj_pviyps"
      },
      "execution_count": null,
      "outputs": []
    },
    {
      "cell_type": "code",
      "source": [],
      "metadata": {
        "id": "skGmLhvpiyvT"
      },
      "execution_count": null,
      "outputs": []
    }
  ]
}